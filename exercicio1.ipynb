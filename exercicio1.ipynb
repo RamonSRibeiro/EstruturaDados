{
 "cells": [
  {
   "cell_type": "code",
   "execution_count": 4,
   "metadata": {},
   "outputs": [],
   "source": [
    "import numpy as np"
   ]
  },
  {
   "cell_type": "code",
   "execution_count": 21,
   "metadata": {},
   "outputs": [],
   "source": [
    "class VetorNaoOrdenado:\n",
    "    def __init__(self, capacidade):\n",
    "        self.capacidade = capacidade\n",
    "        self.ultima_posicao = -1\n",
    "        self.valores = np.empty(\n",
    "            self.capacidade, dtype=int\n",
    "        )\n",
    "    def imprime(self):\n",
    "            if self.ultima_posicao == -1:\n",
    "                print(\"O vator está vazio\")\n",
    "            else:\n",
    "                for i in range(\n",
    "                    self.ultima_posicao + 1\n",
    "                ):\n",
    "                    print(i, \" - \", self.valores[i])       \n",
    "\n",
    "    def insere(self, valor):\n",
    "        if (\n",
    "            self.ultima_posicao == self.capacidade - 1\n",
    "        ):\n",
    "                    \n",
    "            print(\"Capacidade maxima atingida\")\n",
    "        else:\n",
    "            self.ultima_posicao += 1\n",
    "            self.valores[self.ultima_posicao] = valor \n",
    "\n",
    "    def pesquisar(\n",
    "        self, valor\n",
    "    ):\n",
    "        for i in range(self.ultima_posicao + 1):\n",
    "            if valor == self.valor[i]:\n",
    "                return i\n",
    "        return -1\n",
    "\n",
    "    def excluir(self, valor):\n",
    "        posicao = self.pesquisar(valor)\n",
    "        if posicao == -1:\n",
    "            return -1\n",
    "        else:\n",
    "            for i in range(\n",
    "                posicao, self.ultima_posicao\n",
    "            ):\n",
    "                self.valores[i] = self.valores[i + 1]\n",
    "                \n",
    "            self.ultima_posicao -= 1"
   ]
  },
  {
   "cell_type": "code",
   "execution_count": 22,
   "metadata": {},
   "outputs": [],
   "source": [
    "vetor = VetorNaoOrdenado(5)"
   ]
  },
  {
   "cell_type": "code",
   "execution_count": 23,
   "metadata": {},
   "outputs": [
    {
     "name": "stdout",
     "output_type": "stream",
     "text": [
      "O vator está vazio\n"
     ]
    }
   ],
   "source": [
    "vetor.imprime()"
   ]
  },
  {
   "cell_type": "code",
   "execution_count": 24,
   "metadata": {},
   "outputs": [],
   "source": [
    "vetor.insere(2)"
   ]
  },
  {
   "cell_type": "code",
   "execution_count": 25,
   "metadata": {},
   "outputs": [
    {
     "name": "stdout",
     "output_type": "stream",
     "text": [
      "0  -  2\n"
     ]
    }
   ],
   "source": [
    "vetor.imprime()"
   ]
  },
  {
   "cell_type": "code",
   "execution_count": 27,
   "metadata": {},
   "outputs": [
    {
     "name": "stdout",
     "output_type": "stream",
     "text": [
      "Capacidade maxima atingida\n",
      "Capacidade maxima atingida\n",
      "Capacidade maxima atingida\n",
      "Capacidade maxima atingida\n"
     ]
    }
   ],
   "source": [
    "vetor.insere(3)\n",
    "vetor.insere(5)\n",
    "vetor.insere(8)\n",
    "vetor.insere(1)"
   ]
  },
  {
   "cell_type": "code",
   "execution_count": null,
   "metadata": {},
   "outputs": [],
   "source": [
    "vetor.imprime()"
   ]
  }
 ],
 "metadata": {
  "kernelspec": {
   "display_name": "Python 3",
   "language": "python",
   "name": "python3"
  },
  "language_info": {
   "codemirror_mode": {
    "name": "ipython",
    "version": 3
   },
   "file_extension": ".py",
   "mimetype": "text/x-python",
   "name": "python",
   "nbconvert_exporter": "python",
   "pygments_lexer": "ipython3",
   "version": "3.12.2"
  }
 },
 "nbformat": 4,
 "nbformat_minor": 2
}
