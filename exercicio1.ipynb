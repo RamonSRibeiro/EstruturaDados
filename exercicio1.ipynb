{
 "cells": [
  {
   "cell_type": "code",
   "execution_count": 4,
   "metadata": {},
   "outputs": [],
   "source": [
    "import numpy as np"
   ]
  },
  {
   "cell_type": "code",
   "execution_count": 7,
   "metadata": {},
   "outputs": [],
   "source": [
    "def __init__(self, capacidade):\n",
    "    self.capacidade = capacidade\n",
    "    self.ultima_posicao = -1\n",
    "    self.valores = np.empty(\n",
    "        self.capacidade, dtype=int\n",
    "    )"
   ]
  },
  {
   "cell_type": "code",
   "execution_count": 6,
   "metadata": {},
   "outputs": [],
   "source": [
    "def imprime(self):\n",
    "        if self.ultima_posicao == -1:\n",
    "            print(\"O vator está vazio\")\n",
    "        else:\n",
    "            for i in range(\n",
    "                self.ultima_posicao + 1\n",
    "            ):\n",
    "                print(i, \" - \", self.valores[i])        "
   ]
  },
  {
   "cell_type": "code",
   "execution_count": 9,
   "metadata": {},
   "outputs": [],
   "source": [
    "def insere(self, valor):\n",
    "    if (\n",
    "        self.ultima_posicao == self.capacidade - 1\n",
    "    ):\n",
    "                \n",
    "        print(\"Capacidade maxima atingida\")\n",
    "    else:\n",
    "        self.ultima_posicao += 1\n",
    "        self.valores[self.ultima_posicao] = valor"
   ]
  },
  {
   "cell_type": "code",
   "execution_count": null,
   "metadata": {},
   "outputs": [],
   "source": [
    "def pesquisar(\n",
    "    self, valor\n",
    "):\n",
    "    for i in range(self.ultima_posicao + 1):\n",
    "        if valor == self.valor[i]:\n",
    "            return i\n",
    "    return -1"
   ]
  }
 ],
 "metadata": {
  "kernelspec": {
   "display_name": "Python 3",
   "language": "python",
   "name": "python3"
  },
  "language_info": {
   "codemirror_mode": {
    "name": "ipython",
    "version": 3
   },
   "file_extension": ".py",
   "mimetype": "text/x-python",
   "name": "python",
   "nbconvert_exporter": "python",
   "pygments_lexer": "ipython3",
   "version": "3.12.2"
  }
 },
 "nbformat": 4,
 "nbformat_minor": 2
}
